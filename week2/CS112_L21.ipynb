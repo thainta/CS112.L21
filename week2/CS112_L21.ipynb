{
  "nbformat": 4,
  "nbformat_minor": 0,
  "metadata": {
    "language_info": {
      "codemirror_mode": {
        "name": "ipython",
        "version": 3
      },
      "file_extension": ".py",
      "mimetype": "text/x-python",
      "name": "python",
      "nbconvert_exporter": "python",
      "pygments_lexer": "ipython3",
      "version": "3.9.2-final"
    },
    "orig_nbformat": 2,
    "kernelspec": {
      "name": "python3",
      "display_name": "Python 3.9.2 64-bit",
      "metadata": {
        "interpreter": {
          "hash": "6f01942295932fbcbc6a6771c31712ebe11454785fd3129879c271f9e3dff658"
        }
      }
    },
    "colab": {
      "name": "CS112_L21.ipynb",
      "provenance": [],
      "collapsed_sections": []
    }
  },
  "cells": [
    {
      "cell_type": "markdown",
      "metadata": {
        "id": "SOruoTYWXFHu"
      },
      "source": [
        "# H-Index"
      ]
    },
    {
      "cell_type": "markdown",
      "metadata": {
        "id": "HMu0ARgrXFH9"
      },
      "source": [
        "## 1. Abstraction:\n",
        "Sắp xếp mảng và thực hiện các thao tác trên mảng\n",
        "***"
      ]
    },
    {
      "cell_type": "markdown",
      "metadata": {
        "id": "yozCwkz-XFH-"
      },
      "source": [
        "## 2. Pattern Recognition:\n",
        "***"
      ]
    },
    {
      "cell_type": "markdown",
      "metadata": {
        "id": "3iCM1VYkXFIA"
      },
      "source": [
        "## 3. Algorithm designed:\n",
        "***\n"
      ]
    },
    {
      "cell_type": "markdown",
      "metadata": {
        "id": "_ySiW38pXFIB"
      },
      "source": [
        "## 4. Đánh giá độ phức tạp thuật toán:\n",
        "***\n",
        "> Thuật toán có độ phức tạp O(n)"
      ]
    },
    {
      "cell_type": "markdown",
      "metadata": {
        "id": "_BC0DmqQXFIC"
      },
      "source": [
        "## 5. Programming:\n",
        "***"
      ]
    },
    {
      "cell_type": "code",
      "metadata": {
        "id": "dlvYgmPZXFIC"
      },
      "source": [
        "n = int(input())\n",
        "l = list(map(int,input().split()))\n",
        "l.sort()\n",
        "c = 0\n",
        "for i in range(len(l)+1):\n",
        "  c+=l[i]\n",
        "  if l[i] >= len(l) - i:\n",
        "    print(len(l)-i)\n",
        "    break\n",
        "  if c == 0 and i == len(l) -1:\n",
        "    print(0)\n",
        "    break"
      ],
      "execution_count": null,
      "outputs": []
    },
    {
      "cell_type": "markdown",
      "metadata": {
        "id": "r6Y4E-k3XFIE"
      },
      "source": [
        "# Khóa số"
      ]
    },
    {
      "cell_type": "markdown",
      "metadata": {
        "id": "1DmE5W7IXFIE"
      },
      "source": [
        "## 1. Abstraction:\n",
        "***\n",
        "> Vận dụng các tính chất của số chia hết cho 3"
      ]
    },
    {
      "cell_type": "markdown",
      "metadata": {
        "id": "3UAc1bgtXFIF"
      },
      "source": [
        "## 2. Pattern Recognition:\n",
        "***"
      ]
    },
    {
      "cell_type": "markdown",
      "metadata": {
        "id": "swh9RBKsXFIG"
      },
      "source": [
        "## 3. Algorithm designed:\n",
        "***\n"
      ]
    },
    {
      "cell_type": "markdown",
      "metadata": {
        "id": "cEEMGPYnXFIH"
      },
      "source": [
        "## 4. Đánh giá độ phức tạp thuật toán:\n",
        "***\n",
        "> Thuật toán có độ phức tạp O(n)"
      ]
    },
    {
      "cell_type": "markdown",
      "metadata": {
        "id": "UDLNiYbrXFII"
      },
      "source": [
        "## 5. Programming:\n",
        "***"
      ]
    },
    {
      "cell_type": "code",
      "metadata": {
        "id": "R3_ghHafXFIV"
      },
      "source": [
        "s1 = sorted(input().strip(), reverse = False)\n",
        "d_1, d_2 = [], []\n",
        "for i in s1:\n",
        "    if int(i) % 3 == 2:\n",
        "        d_2.append(i)\n",
        "    if int(i) %3 == 1:\n",
        "        d_1.append(i)\n",
        "t = (len(d_1) + 2*len(d_2))%3\n",
        "if t == 1:\n",
        "    if len(d_1) != 0:\n",
        "        s1.remove(d_1[0])\n",
        "    else:\n",
        "        s1.remove(d_2[0])\n",
        "        s1.remove(d_2[1])\n",
        "if t == 2:\n",
        "    if len(d_2) !=0:\n",
        "        s1.remove(d_2[0])\n",
        "    else:\n",
        "        s1.remove(d_1[0])\n",
        "        s1.remove(d_1[1])\n",
        "print(''.join(sorted(s1, reverse = True)))"
      ],
      "execution_count": null,
      "outputs": []
    }
  ]
}
