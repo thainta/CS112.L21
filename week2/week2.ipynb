{
 "metadata": {
  "language_info": {
   "codemirror_mode": {
    "name": "ipython",
    "version": 3
   },
   "file_extension": ".py",
   "mimetype": "text/x-python",
   "name": "python",
   "nbconvert_exporter": "python",
   "pygments_lexer": "ipython3",
   "version": "3.9.2-final"
  },
  "colab": {
      "name": "CS112_L21_N08.ipynb",
      "provenance": [],
      "collapsed_sections": [],
      "toc_visible": true,
      "include_colab_link": true
    },
  "orig_nbformat": 2,
  "kernelspec": {
   "name": "python3",
   "display_name": "Python 3.9.2 64-bit",
   "metadata": {
    "interpreter": {
     "hash": "6f01942295932fbcbc6a6771c31712ebe11454785fd3129879c271f9e3dff658"
    }
   }
  }
 },
 "nbformat": 4,
 "nbformat_minor": 2,
 "cells": [
  {
   "source": [
    "# H-Index"
   ],
   "cell_type": "markdown",
   "metadata": {}
  },
  {
   "source": [
    "## 1. Abstraction:\n",
    "> Sắp xếp mảng và thực hiện các thao tác trên mảng"
     "***"
   ],
   "cell_type": "markdown",
   "metadata": {}
  },
  {
   "source": [
    "## 2. Pattern Recognition:\n",
    "***\n",
    "> Dạng bài toán: Implementation  \n",
    "> Đặc điểm nhận dạng:"
   ],
   "cell_type": "markdown",
   "metadata": {}
  },
  {
   "source": [
    "## 3. Algorithm designed:\n",
    "***\n",
    "![cs112](https://user-images.githubusercontent.com/72365437/112469148-b3beb800-8d9b-11eb-85db-3339ee2dc15d.png)"
   ],
   "cell_type": "markdown",
   "metadata": {}
  },
  {
   "source": [
    "## 4. Đánh giá độ phức tạp thuật toán:\n",
    "***\n",
    "> Thuật toán có độ phức tạp O(n)"
   ],
   "cell_type": "markdown",
   "metadata": {}
  },
  {
   "source": [
    "## 5. Programming:\n",
    "***"
   ],
   "cell_type": "markdown",
   "metadata": {}
  },
  {
   "cell_type": "code",
   "execution_count": null,
   "metadata": {},
   "outputs": [],
   "source": [
    "n = int(input())
    "l = list(map(int,input().split()))
    "l.sort()
    "c = 0
    "for i in range(len(l)+1):
    "  c+=l[i]
    "  if l[i] >= len(l) - i:
    "    print(len(l)-i)
    "    break
    "  if c == 0 and i == len(l) -1:
    "    print(0)
    "    break
   ]
  },
  {
   "source": [
    "# Khóa số "
   ],
   "cell_type": "markdown",
   "metadata": {}
  },
  {
   "source": [
    "## 1. Abstraction:\n",
    "***\n",
    "> Vận dụng các tính chất của số chia hết cho 3"
   ],
   "cell_type": "markdown",
   "metadata": {}
  },
  {
   "source": [
    "## 2. Pattern Recognition:\n",
    "***\n",
    "> Dạng bài toán:  math, implementation \n",
    "> Đặc điểm nhận dạng: "
   ],
   "cell_type": "markdown",
   "metadata": {}
  },
  {
   "source": [
    "## 3. Algorithm designed:\n",
    "***\n"
   ],
   "cell_type": "markdown",
   "metadata": {}
  },
  {
   "source": [
    "## 4. Đánh giá độ phức tạp thuật toán:\n",
    "***\n",
    "> Thuật toán có độ phức tạp O(n)"
   ],
   "cell_type": "markdown",
   "metadata": {}
  },
  {
   "source": [
    "## 5. Programming:\n",
    "***"
   ],
   "cell_type": "markdown",
   "metadata": {}
  },
  {
   "cell_type": "code",
   "execution_count": null,
   "metadata": {},
   "outputs": [],
   "source": [
    "s1 = sorted(input().strip(), reverse = False)
    "d_1, d_2 = [], []
    "for i in s1:
      "if int(i) % 3 == 2:
        "d_2.append(i)
      "if int(i) %3 == 1:
        "d_1.append(i)
      "t = (len(d_1) + 2*len(d_2))%3
      "if t == 1:
        "if len(d_1) != 0:
          "s1.remove(d_1[0])
        "else:
          "s1.remove(d_2[0])
          "s1.remove(d_2[1])
    "if t == 2:
       "if len(d_2) !=0:
          "s1.remove(d_2[0])
        "else:
          "s1.remove(d_1[0])
          "s1.remove(d_1[1])
    "print(''.join(sorted(s1, reverse = True)))
   ]
  }
 ]
}
