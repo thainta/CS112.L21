{
  "nbformat": 4,
  "nbformat_minor": 0,
  "metadata": {
    "language_info": {
      "codemirror_mode": {
        "name": "ipython",
        "version": 3
      },
      "file_extension": ".py",
      "mimetype": "text/x-python",
      "name": "python",
      "nbconvert_exporter": "python",
      "pygments_lexer": "ipython3",
      "version": "3.9.2-final"
    },
    "orig_nbformat": 2,
    "kernelspec": {
      "name": "python3",
      "display_name": "Python 3.9.2 64-bit",
      "metadata": {
        "interpreter": {
          "hash": "6f01942295932fbcbc6a6771c31712ebe11454785fd3129879c271f9e3dff658"
        }
      }
    },
    "colab": {
      "name": "CS112_L21.ipynb",
      "provenance": [],
      "include_colab_link": true
    }
  },
  "cells": [
    {
      "cell_type": "markdown",
      "metadata": {
        "id": "view-in-github",
        "colab_type": "text"
      },
      "source": [
        "<a href=\"https://colab.research.google.com/github/thainta/CS112.L21/blob/main/Week3/TaoBien.ipynb\" target=\"_parent\"><img src=\"https://colab.research.google.com/assets/colab-badge.svg\" alt=\"Open In Colab\"/></a>"
      ]
    },
    {
      "cell_type": "markdown",
      "metadata": {
        "id": "FBO-0e57SqSe"
      },
      "source": [
        "# Tảo biển"
      ]
    },
    {
      "cell_type": "markdown",
      "metadata": {
        "id": "1c--OsduSqSg"
      },
      "source": [
        "## 1. Abstraction:\n",
        "Cho 2 số nguyên dương N, K\n",
        "\n",
        "Tính ($N \\times fibo(2\\times K+1)$) % ($10^9+7$)"
      ]
    },
    {
      "cell_type": "markdown",
      "metadata": {
        "id": "R4tt-n_WSqSi"
      },
      "source": [
        "## 2. Pattern Recognition:\n",
        "Dạng bài toán: Dynamic Programming\n",
        "\n",
        "Đặc điểm nhận dạng: sử dụng kết quả của các phép tính trước để tính ra kết quả tương tự bài toán Fibonacci"
      ]
    },
    {
      "cell_type": "markdown",
      "metadata": {
        "id": "q92ziTbeSqSj"
      },
      "source": [
        "## 3. Algorithm designed:\n",
        "***\n",
        "![cs112](https://user-images.githubusercontent.com/72365437/112469148-b3beb800-8d9b-11eb-85db-3339ee2dc15d.png)"
      ]
    },
    {
      "cell_type": "markdown",
      "metadata": {
        "id": "llu0PBkFSqSl"
      },
      "source": [
        "## 4. Đánh giá độ phức tạp thuật toán:\n",
        "***\n",
        "> Thuật toán có độ phức tạp O(k)"
      ]
    },
    {
      "cell_type": "markdown",
      "metadata": {
        "id": "0ZHM9zVLSqSm"
      },
      "source": [
        "## 5. Programming:\n",
        "***"
      ]
    },
    {
      "cell_type": "code",
      "metadata": {
        "id": "P8755y4FSqSn"
      },
      "source": [
        "c = 10**9 + 7\n",
        "n, k = map(int, input().split())\n",
        "res = 1\n",
        "temp = 0\n",
        "for i in range(k):\n",
        "    temp = temp + res \n",
        "    res = temp + res\n",
        "print((res*n) % c)"
      ],
      "execution_count": null,
      "outputs": []
    }
  ]
}