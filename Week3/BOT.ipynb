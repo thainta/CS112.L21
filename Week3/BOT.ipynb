{
  "nbformat": 4,
  "nbformat_minor": 0,
  "metadata": {
    "language_info": {
      "codemirror_mode": {
        "name": "ipython",
        "version": 3
      },
      "file_extension": ".py",
      "mimetype": "text/x-python",
      "name": "python",
      "nbconvert_exporter": "python",
      "pygments_lexer": "ipython3",
      "version": "3.9.2-final"
    },
    "orig_nbformat": 2,
    "kernelspec": {
      "name": "python3",
      "display_name": "Python 3.9.2 64-bit",
      "metadata": {
        "interpreter": {
          "hash": "6f01942295932fbcbc6a6771c31712ebe11454785fd3129879c271f9e3dff658"
        }
      }
    },
    "colab": {
      "name": "CS112_L21.ipynb",
      "provenance": [],
      "include_colab_link": true
    }
  },
  "cells": [
    {
      "cell_type": "markdown",
      "metadata": {
        "id": "view-in-github",
        "colab_type": "text"
      },
      "source": [
        "<a href=\"https://colab.research.google.com/github/thainta/CS112.L21/blob/main/Week3/BOT.ipynb\" target=\"_parent\"><img src=\"https://colab.research.google.com/assets/colab-badge.svg\" alt=\"Open In Colab\"/></a>"
      ]
    },
    {
      "cell_type": "markdown",
      "metadata": {
        "id": "tgpa-R4xSqSo"
      },
      "source": [
        "# Trạm thu phí "
      ]
    },
    {
      "cell_type": "markdown",
      "metadata": {
        "id": "EQ4sUa8FSqSp"
      },
      "source": [
        "## 1. Abstraction:\n",
        "***\n",
        "> Tìm đoạn con có tổng lớn nhất"
      ]
    },
    {
      "cell_type": "markdown",
      "metadata": {
        "id": "4ysSJpWfSqSq"
      },
      "source": [
        "## 2. Pattern Recognition:\n",
        "Bài toán: Duyệt\n",
        "\n",
        "Đặc điểm nhận dạng: Tìm dãy con có tổng lớn nhấtnhất"
      ]
    },
    {
      "cell_type": "markdown",
      "metadata": {
        "id": "3L3XBhWUSqSq"
      },
      "source": [
        "## 3. Algorithm designed:\n",
        "### Ý tưởng:\n",
        "Bước 1:\n",
        "- Tính tổng của cả mảng\n",
        "\n",
        "Bước 2: \n",
        "- Duyệt mảng\n",
        "  - Tính tổng các đoạn con và lưu chỉ số đầu cuối nếu đoạn đó có tổng lớn hơn tổng của đoạn tìm được trước đó\n",
        "\n"
      ]
    },
    {
      "cell_type": "markdown",
      "metadata": {
        "id": "xXWfihUrSqSr"
      },
      "source": [
        "## 4. Đánh giá độ phức tạp thuật toán:\n",
        "***\n",
        "> Thuật toán có độ phức tạp O(n)"
      ]
    },
    {
      "cell_type": "markdown",
      "metadata": {
        "id": "395bih3oSqSs"
      },
      "source": [
        "## 5. Programming:\n",
        "***"
      ]
    },
    {
      "cell_type": "code",
      "metadata": {
        "id": "tL41fpkNSqSs"
      },
      "source": [
        "n = int(input())\n",
        "a = list(map(int, input().split()))\n",
        "p = l = r = summ = 0\n",
        "res = sum(a)\n",
        "for i in range(n):\n",
        "    if summ + a[i] < a[i] :\n",
        "        p = i\n",
        "        summ = a[i]\n",
        "    else:\n",
        "        summ = summ + a[i]\n",
        "    if res < summ:\n",
        "        res = summ\n",
        "        l = p\n",
        "        r = i\n",
        "print(l+1, r+1, res)"
      ],
      "execution_count": null,
      "outputs": []
    }
  ]
}