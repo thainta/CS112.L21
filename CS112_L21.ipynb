{
 "metadata": {
  "language_info": {
   "codemirror_mode": {
    "name": "ipython",
    "version": 3
   },
    "colab": {
      "name": "CS112_L21_N08.ipynb",
      "provenance": [],
      "collapsed_sections": [],
      "toc_visible": true,
      "include_colab_link": true
    },
   "file_extension": ".py",
   "mimetype": "text/x-python",
   "name": "python",
   "nbconvert_exporter": "python",
   "pygments_lexer": "ipython3",
   "version": "3.9.2-final"
  },
  "orig_nbformat": 2,
  "kernelspec": {
   "name": "python3",
   "display_name": "Python 3.9.2 64-bit",
   "metadata": {
    "interpreter": {
     "hash": "6f01942295932fbcbc6a6771c31712ebe11454785fd3129879c271f9e3dff658"
    }
   }
  }
 },
 "nbformat": 4,
 "nbformat_minor": 2,
 "cells": [
  {
   "source": [
    "# Tảo biển"
   ],
   "cell_type": "markdown",
   "metadata": {}
  },
  {
   "source": [
    "## 1. Abstraction:\n",
    "***"
   ],
   "cell_type": "markdown",
   "metadata": {}
  },
  {
   "source": [
    "## 2. Pattern Recognition:\n",
    "***\n",
    "> Dạng bài toán: Dynamic Programming  \n",
    "> Đặc điểm nhận dạng: sử dụng kết quả của các phép tính trước để tính ra kết quả tương tự bài toán Fibonacci"
   ],
   "cell_type": "markdown",
   "metadata": {}
  },
  {
   "source": [
    "## 3. Algorithm designed:\n",
    "***\n",
    "![cs112](https://user-images.githubusercontent.com/72365437/112469148-b3beb800-8d9b-11eb-85db-3339ee2dc15d.png)"
   ],
   "cell_type": "markdown",
   "metadata": {}
  },
  {
   "source": [
    "## 4. Đánh giá độ phức tạp thuật toán:\n",
    "***\n",
    "> Thuật toán có độ phức tạp O(k)"
   ],
   "cell_type": "markdown",
   "metadata": {}
  },
  {
   "source": [
    "## 5. Programming:\n",
    "***"
   ],
   "cell_type": "markdown",
   "metadata": {}
  },
  {
   "cell_type": "code",
   "execution_count": null,
   "metadata": {},
   "outputs": [],
   "source": [
    "c = 10**9 + 7\n",
    "n, k = map(int, input().split())\n",
    "res = 1\n",
    "temp = 0\n",
    "for i in range(k):\n",
    "    temp = temp + res \n",
    "    res = temp + res\n",
    "print((res*n) % c)"
   ]
  },
  {
   "source": [
    "# Trạm thu phí "
   ],
   "cell_type": "markdown",
   "metadata": {}
  },
  {
   "source": [
    "## 1. Abstraction:\n",
    "***\n",
    "> Tìm đoạn con có tổng lớn nhất"
   ],
   "cell_type": "markdown",
   "metadata": {}
  },
  {
   "source": [
    "## 2. Pattern Recognition:\n",
    "***\n",
    "> Dạng bài toán:   \n",
    "> Đặc điểm nhận dạng: "
   ],
   "cell_type": "markdown",
   "metadata": {}
  },
  {
   "source": [
    "## 3. Algorithm designed:\n",
    "***\n"
   ],
   "cell_type": "markdown",
   "metadata": {}
  },
  {
   "source": [
    "## 4. Đánh giá độ phức tạp thuật toán:\n",
    "***\n",
    "> Thuật toán có độ phức tạp O(n)"
   ],
   "cell_type": "markdown",
   "metadata": {}
  },
  {
   "source": [
    "## 5. Programming:\n",
    "***"
   ],
   "cell_type": "markdown",
   "metadata": {}
  },
  {
   "cell_type": "code",
   "execution_count": null,
   "metadata": {},
   "outputs": [],
   "source": [
    "n = int(input())\n",
    "a = list(map(int, input().split()))\n",
    "p = l = r = summ = 0\n",
    "res = sum(a)\n",
    "for i in range(n):\n",
    "    if summ + a[i] < a[i] :\n",
    "        p = i\n",
    "        summ = a[i]\n",
    "    else:\n",
    "        summ = summ + a[i]\n",
    "    if res < summ:\n",
    "        res = summ\n",
    "        l = p\n",
    "        r = i\n",
    "print(l+1, r+1, res)"
   ]
  }
 ]
}
